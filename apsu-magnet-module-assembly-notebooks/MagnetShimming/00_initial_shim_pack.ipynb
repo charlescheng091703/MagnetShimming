{
 "cells": [
  {
   "cell_type": "markdown",
   "id": "e516dc81-55ff-4dba-8e9b-4e1f8ede7f93",
   "metadata": {},
   "source": [
    "# Magnet Shimming Program - Initial Shim Pack Calculation\n",
    "\n",
    "This notebook performs calculations for the initial shimming of the APS-U\n",
    "Magnet Modules.    The Notebook connects to the APS Component Database to identify\n",
    "the magnets that are assigned to the modules and then reads in the fiducial\n",
    "reference information produced by the Magnet Group.\n",
    "\n",
    "After reading in the data,  the notebook performs a calculation where it numerically inserts 0.001\"/25 micron shims to determine the best fit lines between the magnet centers for the selected axis.\n",
    "\n",
    "The calculation performs the calculation assuming the shim values are bounded by the \"Shim Calculation Bounds\" (however, negative shimming is rejected) with an optimization function that minimizes shimming on one hand (Shim Error Weight = 0) and the least error in the slope on the other hand (Shim Error Weight = 1).\n",
    "\n",
    "Output files are saved as Excel Files\n",
    "\n",
    "To save the calculation cell with the graphs, the easiest way is to cut and paste the cell output into another program.   Go to the cell and Right Click to save to Clipboard."
   ]
  },
  {
   "cell_type": "code",
   "execution_count": null,
   "id": "e2468dd2-15b9-40f6-a139-9ff9df59ef97",
   "metadata": {},
   "outputs": [],
   "source": []
  },
  {
   "cell_type": "code",
   "execution_count": 1,
   "id": "1870875b-89a2-464b-bbfa-38528d011c2c",
   "metadata": {},
   "outputs": [
    {
     "name": "stdout",
     "output_type": "stream",
     "text": [
      "CDBApi Is Loaded\n"
     ]
    }
   ],
   "source": [
    "from shim_calculation import *"
   ]
  },
  {
   "cell_type": "code",
   "execution_count": 2,
   "id": "fb38cd39-a729-431c-8bfb-58e193ec0b8b",
   "metadata": {
    "tags": []
   },
   "outputs": [
    {
     "data": {
      "application/vnd.jupyter.widget-view+json": {
       "model_id": "58ef83cfe3b34b52a2554c30969012ea",
       "version_major": 2,
       "version_minor": 0
      },
      "text/plain": [
       "VBox(children=(Dropdown(description='Module Name', layout=Layout(height='auto', width='auto'), options=('DLMA-…"
      ]
     },
     "metadata": {},
     "output_type": "display_data"
    }
   ],
   "source": [
    "fiducial_file_format.value = \"First Iteration\"\n",
    "fc.title = \"Select APS Fiducial Filename (e.g. APS_U_MagnetFiducials_All.xlsx):\"\n",
    "widgets.VBox(first_shim_calculation_menu)"
   ]
  },
  {
   "cell_type": "code",
   "execution_count": null,
   "id": "5509bfb9",
   "metadata": {},
   "outputs": [],
   "source": []
  }
 ],
 "metadata": {
  "kernelspec": {
   "display_name": "Python 3 (ipykernel)",
   "language": "python",
   "name": "python3"
  },
  "language_info": {
   "codemirror_mode": {
    "name": "ipython",
    "version": 3
   },
   "file_extension": ".py",
   "mimetype": "text/x-python",
   "name": "python",
   "nbconvert_exporter": "python",
   "pygments_lexer": "ipython3",
   "version": "3.9.6"
  }
 },
 "nbformat": 4,
 "nbformat_minor": 5
}

{
 "cells": [
  {
   "cell_type": "markdown",
   "id": "20ba82bb-eee7-4a19-abdd-eb7dbc72d90b",
   "metadata": {
    "tags": []
   },
   "source": [
    "# Magnet Shimming Program - Shimming Iteration Adjustments\n",
    "\n",
    "This notebook performs calculations for subsequent shimming of the APS-U\n",
    "Magnet Modules once the initial shimming has been performed.\n",
    "The Notebook connects to the APS Component Database to identify\n",
    "the magnets that are assigned to the modules and then reads in the data from\n",
    "the Survey Group and a file which includes the current shims that are\n",
    "in the module.\n",
    "\n",
    "After reading in the data,  the notebook performs a calculation where it numerically inserts 0.001\"/25 micron shims to determine the best fit lines between the magnet centers for the selected axis.   \n",
    "\n",
    "The calculation performs the calculation assuming the shim values are bounded by the \"Shim Calculation Bounds\" (however, negative shimming from the shimmed module is allowed; however, the total number of shims will not be less than zero.)  The optimization function that minimizes shimming on one hand (Shim Error Weight = 0) and the least error in the slope on the other hand (Shim Error Weight = 1).\n",
    "\n",
    "Output files are saved as Excel Files\n",
    "\n",
    "To save the calculation cell with the graphs, the easiest way is to cut and paste the cell output into another program.   Go to the cell and Right Click to save to Clipboard."
   ]
  },
  {
   "cell_type": "code",
   "execution_count": null,
   "id": "e2468dd2-15b9-40f6-a139-9ff9df59ef97",
   "metadata": {},
   "outputs": [],
   "source": []
  },
  {
   "cell_type": "code",
   "execution_count": 1,
   "id": "1870875b-89a2-464b-bbfa-38528d011c2c",
   "metadata": {},
   "outputs": [
    {
     "data": {
      "text/html": [
       "<pre style=\"white-space:pre;overflow-x:auto;line-height:normal;font-family:Menlo,'DejaVu Sans Mono',consolas,'Courier New',monospace\">CDBApi Is Loaded\n",
       "</pre>\n"
      ],
      "text/plain": [
       "CDBApi Is Loaded\n"
      ]
     },
     "metadata": {},
     "output_type": "display_data"
    }
   ],
   "source": [
    "from shim_calculation import *"
   ]
  },
  {
   "cell_type": "code",
   "execution_count": 2,
   "id": "fb38cd39-a729-431c-8bfb-58e193ec0b8b",
   "metadata": {
    "tags": []
   },
   "outputs": [
    {
     "data": {
      "application/vnd.jupyter.widget-view+json": {
       "model_id": "6c7ea0b397144f4797dce7c56a6fad98",
       "version_major": 2,
       "version_minor": 0
      },
      "text/plain": [
       "VBox(children=(Dropdown(description='Module Name', layout=Layout(height='auto', width='auto'), options=('DLMA-…"
      ]
     },
     "metadata": {},
     "output_type": "display_data"
    }
   ],
   "source": [
    "fiducial_file_format.value = \"Second Iteration\"\n",
    "fc.title = \"Select Filename of Survey Measurement CSV:\"\n",
    "fc_it2.title = \"Select Filename of Existing Module Shim Values:\"\n",
    "widgets.VBox(second_shim_calculation_menu)"
   ]
  },
  {
   "cell_type": "code",
   "execution_count": null,
   "id": "4e0c82b8",
   "metadata": {},
   "outputs": [],
   "source": []
  }
 ],
 "metadata": {
  "kernelspec": {
   "display_name": "Python 3 (ipykernel)",
   "language": "python",
   "name": "python3"
  },
  "language_info": {
   "codemirror_mode": {
    "name": "ipython",
    "version": 3
   },
   "file_extension": ".py",
   "mimetype": "text/x-python",
   "name": "python",
   "nbconvert_exporter": "python",
   "pygments_lexer": "ipython3",
   "version": "3.9.6"
  }
 },
 "nbformat": 4,
 "nbformat_minor": 5
}
